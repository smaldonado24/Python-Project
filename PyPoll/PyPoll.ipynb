{
 "cells": [
  {
   "cell_type": "code",
   "execution_count": 1,
   "id": "0795d7bf-9b50-47e9-af87-4ba056fc1547",
   "metadata": {},
   "outputs": [],
   "source": [
    "import csv\n",
    "import os\n",
    "\n",
    "\n",
    "file_to_load = os.path.join(\".\", \"Resources\", \"election_data.csv\")\n",
    "\n",
    "file_to_output = os.path.join(\".\", \"election_analysis.txt\")\n",
    "\n",
    "total_votes = 0\n",
    "\n",
    "candidate_votes = {}\n",
    "candidate_options = []\n",
    "\n",
    "with open(file_to_load) as election_data:\n",
    "    reader = csv.reader(election_data)\n",
    "\n",
    "    header = next(reader)\n",
    "    print = header\n",
    "\n",
    "\n"
   ]
  },
  {
   "cell_type": "code",
   "execution_count": 3,
   "id": "0cdbe555-d64d-4f31-a7c2-92516b722c28",
   "metadata": {},
   "outputs": [
    {
     "ename": "TypeError",
     "evalue": "'list' object is not callable",
     "output_type": "error",
     "traceback": [
      "\u001b[0;31m---------------------------------------------------------------------------\u001b[0m",
      "\u001b[0;31mTypeError\u001b[0m                                 Traceback (most recent call last)",
      "Cell \u001b[0;32mIn[3], line 1\u001b[0m\n\u001b[0;32m----> 1\u001b[0m \u001b[38;5;28mprint\u001b[39m(\u001b[38;5;124m\"\u001b[39m\u001b[38;5;124mHello!!! \u001b[39m\u001b[38;5;124m\"\u001b[39m)\n",
      "\u001b[0;31mTypeError\u001b[0m: 'list' object is not callable"
     ]
    }
   ],
   "source": [
    "print(\"Hello!!! \")"
   ]
  },
  {
   "cell_type": "code",
   "execution_count": null,
   "id": "4fbdc64e-d2d8-4f3c-a24f-cfa644729e64",
   "metadata": {},
   "outputs": [],
   "source": []
  }
 ],
 "metadata": {
  "kernelspec": {
   "display_name": "Python 3 (ipykernel)",
   "language": "python",
   "name": "python3"
  },
  "language_info": {
   "codemirror_mode": {
    "name": "ipython",
    "version": 3
   },
   "file_extension": ".py",
   "mimetype": "text/x-python",
   "name": "python",
   "nbconvert_exporter": "python",
   "pygments_lexer": "ipython3",
   "version": "3.11.7"
  }
 },
 "nbformat": 4,
 "nbformat_minor": 5
}
